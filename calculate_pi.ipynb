{
  "nbformat": 4,
  "nbformat_minor": 0,
  "metadata": {
    "colab": {
      "provenance": [],
      "authorship_tag": "ABX9TyODnivlexlOUTb18jW4hcSl",
      "include_colab_link": true
    },
    "kernelspec": {
      "name": "python3",
      "display_name": "Python 3"
    },
    "language_info": {
      "name": "python"
    }
  },
  "cells": [
    {
      "cell_type": "markdown",
      "metadata": {
        "id": "view-in-github",
        "colab_type": "text"
      },
      "source": [
        "<a href=\"https://colab.research.google.com/github/nayeem-ma18015/python_calulation/blob/main/calculate_pi.ipynb\" target=\"_parent\"><img src=\"https://colab.research.google.com/assets/colab-badge.svg\" alt=\"Open In Colab\"/></a>"
      ]
    },
    {
      "cell_type": "code",
      "execution_count": 5,
      "metadata": {
        "colab": {
          "base_uri": "https://localhost:8080/"
        },
        "id": "jpokO98SVtZ9",
        "outputId": "fba1c5f4-9000-4a1d-b3ab-90bd3b0f3963"
      },
      "outputs": [
        {
          "output_type": "stream",
          "name": "stdout",
          "text": [
            "--2024-11-01 20:21:33--  https://raw.githubusercontent.com/nayeem-ma18015/python_calulation/refs/heads/main/Nayeem_Math.py\n",
            "Resolving raw.githubusercontent.com (raw.githubusercontent.com)... 185.199.108.133, 185.199.109.133, 185.199.110.133, ...\n",
            "Connecting to raw.githubusercontent.com (raw.githubusercontent.com)|185.199.108.133|:443... connected.\n",
            "HTTP request sent, awaiting response... 200 OK\n",
            "Length: 250 [text/plain]\n",
            "Saving to: ‘Nayeem_Math.py’\n",
            "\n",
            "\rNayeem_Math.py        0%[                    ]       0  --.-KB/s               \rNayeem_Math.py      100%[===================>]     250  --.-KB/s    in 0s      \n",
            "\n",
            "2024-11-01 20:21:34 (5.05 MB/s) - ‘Nayeem_Math.py’ saved [250/250]\n",
            "\n",
            "Enter the number of Digits after dot : 6\n",
            "3.141593\n"
          ]
        }
      ],
      "source": [
        "import sys\n",
        "\n",
        "!wget https://raw.githubusercontent.com/nayeem-ma18015/python_calulation/refs/heads/main/Nayeem_Math.py\n",
        "\n",
        "sys.path.append('/content') # Add the current directory to the path\n",
        "\n",
        "import Nayeem_Math as nm\n",
        "\n",
        "n = int(input(\"Enter the number of Digits after dot : \"))\n",
        "\n",
        "print(nm.print_pi_to_n_digits(n))"
      ]
    }
  ]
}