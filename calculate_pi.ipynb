{
  "nbformat": 4,
  "nbformat_minor": 0,
  "metadata": {
    "colab": {
      "provenance": [],
      "authorship_tag": "ABX9TyPAhcg4832rXVMqgq1dI6mh",
      "include_colab_link": true
    },
    "kernelspec": {
      "name": "python3",
      "display_name": "Python 3"
    },
    "language_info": {
      "name": "python"
    }
  },
  "cells": [
    {
      "cell_type": "markdown",
      "metadata": {
        "id": "view-in-github",
        "colab_type": "text"
      },
      "source": [
        "<a href=\"https://colab.research.google.com/github/nayeem-ma18015/python_calulation/blob/main/calculate_pi.ipynb\" target=\"_parent\"><img src=\"https://colab.research.google.com/assets/colab-badge.svg\" alt=\"Open In Colab\"/></a>"
      ]
    },
    {
      "cell_type": "code",
      "execution_count": null,
      "metadata": {
        "id": "jpokO98SVtZ9"
      },
      "outputs": [],
      "source": [
        "import sys\n",
        "\n",
        "!wget https://github.com/nayeem-ma18015/python_calulation/blob/main/Nayeem_Math.py\n",
        "\n",
        "sys.path.append('/content') # Add the current directory to the path\n",
        "\n",
        "import Nayeem_Math as nm\n",
        "from Nayeem_Math import print_pi_to_n_digits\n",
        "\n",
        "n = int(input(\"Enter the number of Digits after dot : \"))\n",
        "\n",
        "big_pi = nm.print_pi_to_n_digits(n)\n",
        "print(big_pi)"
      ]
    }
  ]
}