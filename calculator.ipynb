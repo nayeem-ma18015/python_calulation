{
  "nbformat": 4,
  "nbformat_minor": 0,
  "metadata": {
    "colab": {
      "provenance": [],
      "authorship_tag": "ABX9TyPsQd3IaC8Z7F2ASQh9gVSg",
      "include_colab_link": true
    },
    "kernelspec": {
      "name": "python3",
      "display_name": "Python 3"
    },
    "language_info": {
      "name": "python"
    }
  },
  "cells": [
    {
      "cell_type": "markdown",
      "metadata": {
        "id": "view-in-github",
        "colab_type": "text"
      },
      "source": [
        "<a href=\"https://colab.research.google.com/github/nayeem-ma18015/python_calulation/blob/main/calculator.ipynb\" target=\"_parent\"><img src=\"https://colab.research.google.com/assets/colab-badge.svg\" alt=\"Open In Colab\"/></a>"
      ]
    },
    {
      "cell_type": "code",
      "execution_count": 4,
      "metadata": {
        "colab": {
          "base_uri": "https://localhost:8080/"
        },
        "id": "Ldml0RcSNVRU",
        "outputId": "ba78a2f0-886d-4e31-dfea-a87f488c16ac"
      },
      "outputs": [
        {
          "output_type": "stream",
          "name": "stdout",
          "text": [
            "--2024-11-01 20:34:48--  https://raw.githubusercontent.com/nayeem-ma18015/python_calulation/refs/heads/main/calculator.py\n",
            "Resolving raw.githubusercontent.com (raw.githubusercontent.com)... 185.199.108.133, 185.199.109.133, 185.199.110.133, ...\n",
            "Connecting to raw.githubusercontent.com (raw.githubusercontent.com)|185.199.108.133|:443... connected.\n",
            "HTTP request sent, awaiting response... 200 OK\n",
            "Length: 155 [text/plain]\n",
            "Saving to: ‘calculator.py’\n",
            "\n",
            "\rcalculator.py         0%[                    ]       0  --.-KB/s               \rcalculator.py       100%[===================>]     155  --.-KB/s    in 0s      \n",
            "\n",
            "2024-11-01 20:34:49 (2.54 MB/s) - ‘calculator.py’ saved [155/155]\n",
            "\n",
            "Enter the 1st number a: 16\n",
            "Enter the 2nd number b: 18\n",
            "Addition(a,b):  34\n",
            "Subtract(a,b):  2\n"
          ]
        }
      ],
      "source": [
        "\n",
        "\n",
        "import sys\n",
        "\n",
        "!wget https://raw.githubusercontent.com/nayeem-ma18015/python_calulation/refs/heads/main/calculator.py\n",
        "\n",
        "sys.path.append('/content') # Add the current directory to the path\n",
        "\n",
        "import calculator as cal\n",
        "\n",
        "\n",
        "fn = int(input(\"Enter the 1st number a: \"))\n",
        "sn = int(input(\"Enter the 2nd number b: \"))\n",
        "\n",
        "print(\"Addition(a,b): \", cal.add(a=fn, b=sn))\n",
        "print(\"Subtract(a,b): \", cal.sub(a=fn, b=sn))"
      ]
    }
  ]
}